{
 "cells": [
  {
   "cell_type": "markdown",
   "metadata": {},
   "source": [
    "## New Customer Prediction"
   ]
  },
  {
   "cell_type": "markdown",
   "metadata": {},
   "source": [
    "I have been given two sets data, a training dataset of current existing customers and potential customers for targeted advert. The advert will be targeted at the most influential customers in the potential customer data who will be converted to customers so as to increase the company's sales and revenue in great amount. The features consists of relevant and irrelevant data"
   ]
  },
  {
   "cell_type": "code",
   "execution_count": 1,
   "metadata": {},
   "outputs": [],
   "source": [
    "#importing the required packages for the analysis\n",
    "import numpy as np\n",
    "import pandas as pd\n",
    "import matplotlib.pyplot as plt\n",
    "import seaborn as sns\n",
    "from datetime import datetime\n",
    "from pandas.plotting import scatter_matrix\n",
    "%matplotlib inline\n",
    "from sklearn import preprocessing\n",
    "from sklearn.linear_model import LogisticRegression\n",
    "from sklearn.ensemble import RandomForestClassifier\n",
    "from sklearn.model_selection import train_test_split\n",
    "from sklearn.metrics import accuracy_score\n",
    "from sklearn.metrics import precision_score\n",
    "from sklearn.metrics import recall_score\n",
    "from sklearn.metrics import confusion_matrix, roc_curve, roc_auc_score, precision_recall_curve\n",
    "from sklearn.metrics import f1_score\n",
    "sns.set_style('darkgrid')\n",
    "pd.options.display.max_columns=99\n",
    "from xgboost import XGBClassifier\n",
    "import warnings\n",
    "warnings.filterwarnings('ignore')"
   ]
  },
  {
   "cell_type": "code",
   "execution_count": 2,
   "metadata": {},
   "outputs": [],
   "source": [
    "# loading the datasets into pandas dataframe \n",
    "trans = pd.read_excel(r'C:\\Users\\Chuks\\datasets\\kpmg_transaction_data.xlsx', parse_dates=[\"product_first_sold_date\"])\n",
    "addr = pd.read_excel(r'C:\\Users\\Chuks\\datasets\\kpmg_customer_address.xlsx')\n",
    "demo = pd.read_excel(r'C:\\Users\\Chuks\\datasets\\kpmg_customer_demography.xlsx')"
   ]
  },
  {
   "cell_type": "code",
   "execution_count": 3,
   "metadata": {},
   "outputs": [
    {
     "name": "stdout",
     "output_type": "stream",
     "text": [
      "trans shape is (20000, 13)\n",
      "addr shape is (3999, 6)\n",
      "demo shape is (4000, 13)\n"
     ]
    }
   ],
   "source": [
    "# displaying the shape of each datasets\n",
    "print('trans shape is {}'.format(trans.shape))\n",
    "print('addr shape is {}'.format(addr.shape))\n",
    "print('demo shape is {}'.format(demo.shape))"
   ]
  },
  {
   "cell_type": "code",
   "execution_count": 4,
   "metadata": {},
   "outputs": [],
   "source": [
    "# Merging he datasets\n",
    "pd_merged = pd.merge(trans, demo, on='customer_id')\n",
    "comb_df = pd.merge(pd_merged, addr, on='customer_id')\n",
    "#trans.join(demo, on=customer_id)"
   ]
  },
  {
   "cell_type": "code",
   "execution_count": 5,
   "metadata": {},
   "outputs": [
    {
     "data": {
      "text/html": [
       "<div>\n",
       "<style scoped>\n",
       "    .dataframe tbody tr th:only-of-type {\n",
       "        vertical-align: middle;\n",
       "    }\n",
       "\n",
       "    .dataframe tbody tr th {\n",
       "        vertical-align: top;\n",
       "    }\n",
       "\n",
       "    .dataframe thead th {\n",
       "        text-align: right;\n",
       "    }\n",
       "</style>\n",
       "<table border=\"1\" class=\"dataframe\">\n",
       "  <thead>\n",
       "    <tr style=\"text-align: right;\">\n",
       "      <th></th>\n",
       "      <th>transaction_id</th>\n",
       "      <th>product_id</th>\n",
       "      <th>customer_id</th>\n",
       "      <th>transaction_date</th>\n",
       "      <th>online_order</th>\n",
       "      <th>order_status</th>\n",
       "      <th>brand</th>\n",
       "      <th>product_line</th>\n",
       "      <th>product_class</th>\n",
       "      <th>product_size</th>\n",
       "      <th>list_price</th>\n",
       "      <th>standard_cost</th>\n",
       "      <th>product_first_sold_date</th>\n",
       "      <th>first_name</th>\n",
       "      <th>last_name</th>\n",
       "      <th>gender</th>\n",
       "      <th>past_3_years_bike_related_purchases</th>\n",
       "      <th>DOB</th>\n",
       "      <th>job_title</th>\n",
       "      <th>job_industry_category</th>\n",
       "      <th>wealth_segment</th>\n",
       "      <th>deceased_indicator</th>\n",
       "      <th>default</th>\n",
       "      <th>owns_car</th>\n",
       "      <th>tenure</th>\n",
       "      <th>address</th>\n",
       "      <th>postcode</th>\n",
       "      <th>state</th>\n",
       "      <th>country</th>\n",
       "      <th>property_valuation</th>\n",
       "    </tr>\n",
       "  </thead>\n",
       "  <tbody>\n",
       "    <tr>\n",
       "      <th>0</th>\n",
       "      <td>1</td>\n",
       "      <td>2</td>\n",
       "      <td>2950</td>\n",
       "      <td>2017-02-25</td>\n",
       "      <td>0.0</td>\n",
       "      <td>Approved</td>\n",
       "      <td>Solex</td>\n",
       "      <td>Standard</td>\n",
       "      <td>medium</td>\n",
       "      <td>medium</td>\n",
       "      <td>71.49</td>\n",
       "      <td>53.62</td>\n",
       "      <td>41245.0</td>\n",
       "      <td>Kristos</td>\n",
       "      <td>Anthony</td>\n",
       "      <td>Male</td>\n",
       "      <td>19</td>\n",
       "      <td>1955-01-11</td>\n",
       "      <td>Software Engineer I</td>\n",
       "      <td>Financial Services</td>\n",
       "      <td>Mass Customer</td>\n",
       "      <td>N</td>\n",
       "      <td>ã»(ï¿£âï¿£)ã»:*:</td>\n",
       "      <td>Yes</td>\n",
       "      <td>10.0</td>\n",
       "      <td>984 Hoepker Court</td>\n",
       "      <td>3064</td>\n",
       "      <td>VIC</td>\n",
       "      <td>Australia</td>\n",
       "      <td>6</td>\n",
       "    </tr>\n",
       "    <tr>\n",
       "      <th>1</th>\n",
       "      <td>11065</td>\n",
       "      <td>1</td>\n",
       "      <td>2950</td>\n",
       "      <td>2017-10-16</td>\n",
       "      <td>0.0</td>\n",
       "      <td>Approved</td>\n",
       "      <td>Giant Bicycles</td>\n",
       "      <td>Standard</td>\n",
       "      <td>medium</td>\n",
       "      <td>medium</td>\n",
       "      <td>1403.50</td>\n",
       "      <td>954.82</td>\n",
       "      <td>37659.0</td>\n",
       "      <td>Kristos</td>\n",
       "      <td>Anthony</td>\n",
       "      <td>Male</td>\n",
       "      <td>19</td>\n",
       "      <td>1955-01-11</td>\n",
       "      <td>Software Engineer I</td>\n",
       "      <td>Financial Services</td>\n",
       "      <td>Mass Customer</td>\n",
       "      <td>N</td>\n",
       "      <td>ã»(ï¿£âï¿£)ã»:*:</td>\n",
       "      <td>Yes</td>\n",
       "      <td>10.0</td>\n",
       "      <td>984 Hoepker Court</td>\n",
       "      <td>3064</td>\n",
       "      <td>VIC</td>\n",
       "      <td>Australia</td>\n",
       "      <td>6</td>\n",
       "    </tr>\n",
       "    <tr>\n",
       "      <th>2</th>\n",
       "      <td>18923</td>\n",
       "      <td>62</td>\n",
       "      <td>2950</td>\n",
       "      <td>2017-04-26</td>\n",
       "      <td>0.0</td>\n",
       "      <td>Approved</td>\n",
       "      <td>Solex</td>\n",
       "      <td>Standard</td>\n",
       "      <td>medium</td>\n",
       "      <td>medium</td>\n",
       "      <td>478.16</td>\n",
       "      <td>298.72</td>\n",
       "      <td>40487.0</td>\n",
       "      <td>Kristos</td>\n",
       "      <td>Anthony</td>\n",
       "      <td>Male</td>\n",
       "      <td>19</td>\n",
       "      <td>1955-01-11</td>\n",
       "      <td>Software Engineer I</td>\n",
       "      <td>Financial Services</td>\n",
       "      <td>Mass Customer</td>\n",
       "      <td>N</td>\n",
       "      <td>ã»(ï¿£âï¿£)ã»:*:</td>\n",
       "      <td>Yes</td>\n",
       "      <td>10.0</td>\n",
       "      <td>984 Hoepker Court</td>\n",
       "      <td>3064</td>\n",
       "      <td>VIC</td>\n",
       "      <td>Australia</td>\n",
       "      <td>6</td>\n",
       "    </tr>\n",
       "    <tr>\n",
       "      <th>19965</th>\n",
       "      <td>18462</td>\n",
       "      <td>80</td>\n",
       "      <td>2789</td>\n",
       "      <td>2017-06-20</td>\n",
       "      <td>0.0</td>\n",
       "      <td>Approved</td>\n",
       "      <td>OHM Cycles</td>\n",
       "      <td>Touring</td>\n",
       "      <td>low</td>\n",
       "      <td>medium</td>\n",
       "      <td>1073.07</td>\n",
       "      <td>933.84</td>\n",
       "      <td>42226.0</td>\n",
       "      <td>Violetta</td>\n",
       "      <td>Bucksey</td>\n",
       "      <td>Female</td>\n",
       "      <td>66</td>\n",
       "      <td>1992-11-30</td>\n",
       "      <td>Senior Editor</td>\n",
       "      <td>Financial Services</td>\n",
       "      <td>Affluent Customer</td>\n",
       "      <td>N</td>\n",
       "      <td>ãã¼ãã£ã¼ã¸è¡ããªãã</td>\n",
       "      <td>Yes</td>\n",
       "      <td>7.0</td>\n",
       "      <td>724 West Park</td>\n",
       "      <td>2112</td>\n",
       "      <td>NSW</td>\n",
       "      <td>Australia</td>\n",
       "      <td>11</td>\n",
       "    </tr>\n",
       "    <tr>\n",
       "      <th>19966</th>\n",
       "      <td>17981</td>\n",
       "      <td>69</td>\n",
       "      <td>3446</td>\n",
       "      <td>2017-12-26</td>\n",
       "      <td>1.0</td>\n",
       "      <td>Approved</td>\n",
       "      <td>Giant Bicycles</td>\n",
       "      <td>Road</td>\n",
       "      <td>medium</td>\n",
       "      <td>medium</td>\n",
       "      <td>792.90</td>\n",
       "      <td>594.68</td>\n",
       "      <td>33879.0</td>\n",
       "      <td>Gard</td>\n",
       "      <td>Tidy</td>\n",
       "      <td>Male</td>\n",
       "      <td>8</td>\n",
       "      <td>1967-01-30</td>\n",
       "      <td>Structural Engineer</td>\n",
       "      <td>Manufacturing</td>\n",
       "      <td>Mass Customer</td>\n",
       "      <td>N</td>\n",
       "      <td>NaN</td>\n",
       "      <td>No</td>\n",
       "      <td>14.0</td>\n",
       "      <td>8 Becker Drive</td>\n",
       "      <td>4868</td>\n",
       "      <td>QLD</td>\n",
       "      <td>Australia</td>\n",
       "      <td>4</td>\n",
       "    </tr>\n",
       "    <tr>\n",
       "      <th>19967</th>\n",
       "      <td>18165</td>\n",
       "      <td>86</td>\n",
       "      <td>3446</td>\n",
       "      <td>2017-12-03</td>\n",
       "      <td>0.0</td>\n",
       "      <td>Approved</td>\n",
       "      <td>OHM Cycles</td>\n",
       "      <td>Standard</td>\n",
       "      <td>medium</td>\n",
       "      <td>medium</td>\n",
       "      <td>235.63</td>\n",
       "      <td>125.07</td>\n",
       "      <td>38206.0</td>\n",
       "      <td>Gard</td>\n",
       "      <td>Tidy</td>\n",
       "      <td>Male</td>\n",
       "      <td>8</td>\n",
       "      <td>1967-01-30</td>\n",
       "      <td>Structural Engineer</td>\n",
       "      <td>Manufacturing</td>\n",
       "      <td>Mass Customer</td>\n",
       "      <td>N</td>\n",
       "      <td>NaN</td>\n",
       "      <td>No</td>\n",
       "      <td>14.0</td>\n",
       "      <td>8 Becker Drive</td>\n",
       "      <td>4868</td>\n",
       "      <td>QLD</td>\n",
       "      <td>Australia</td>\n",
       "      <td>4</td>\n",
       "    </tr>\n",
       "  </tbody>\n",
       "</table>\n",
       "</div>"
      ],
      "text/plain": [
       "       transaction_id  product_id  customer_id transaction_date  online_order  \\\n",
       "0                   1           2         2950       2017-02-25           0.0   \n",
       "1               11065           1         2950       2017-10-16           0.0   \n",
       "2               18923          62         2950       2017-04-26           0.0   \n",
       "19965           18462          80         2789       2017-06-20           0.0   \n",
       "19966           17981          69         3446       2017-12-26           1.0   \n",
       "19967           18165          86         3446       2017-12-03           0.0   \n",
       "\n",
       "      order_status           brand product_line product_class product_size  \\\n",
       "0         Approved           Solex     Standard        medium       medium   \n",
       "1         Approved  Giant Bicycles     Standard        medium       medium   \n",
       "2         Approved           Solex     Standard        medium       medium   \n",
       "19965     Approved      OHM Cycles      Touring           low       medium   \n",
       "19966     Approved  Giant Bicycles         Road        medium       medium   \n",
       "19967     Approved      OHM Cycles     Standard        medium       medium   \n",
       "\n",
       "       list_price  standard_cost  product_first_sold_date first_name  \\\n",
       "0           71.49          53.62                  41245.0    Kristos   \n",
       "1         1403.50         954.82                  37659.0    Kristos   \n",
       "2          478.16         298.72                  40487.0    Kristos   \n",
       "19965     1073.07         933.84                  42226.0   Violetta   \n",
       "19966      792.90         594.68                  33879.0       Gard   \n",
       "19967      235.63         125.07                  38206.0       Gard   \n",
       "\n",
       "      last_name  gender  past_3_years_bike_related_purchases        DOB  \\\n",
       "0       Anthony    Male                                   19 1955-01-11   \n",
       "1       Anthony    Male                                   19 1955-01-11   \n",
       "2       Anthony    Male                                   19 1955-01-11   \n",
       "19965   Bucksey  Female                                   66 1992-11-30   \n",
       "19966      Tidy    Male                                    8 1967-01-30   \n",
       "19967      Tidy    Male                                    8 1967-01-30   \n",
       "\n",
       "                 job_title job_industry_category     wealth_segment  \\\n",
       "0      Software Engineer I    Financial Services      Mass Customer   \n",
       "1      Software Engineer I    Financial Services      Mass Customer   \n",
       "2      Software Engineer I    Financial Services      Mass Customer   \n",
       "19965        Senior Editor    Financial Services  Affluent Customer   \n",
       "19966  Structural Engineer         Manufacturing      Mass Customer   \n",
       "19967  Structural Engineer         Manufacturing      Mass Customer   \n",
       "\n",
       "      deceased_indicator            default owns_car  tenure  \\\n",
       "0                      N   ã»(ï¿£âï¿£)ã»:*:      Yes    10.0   \n",
       "1                      N   ã»(ï¿£âï¿£)ã»:*:      Yes    10.0   \n",
       "2                      N   ã»(ï¿£âï¿£)ã»:*:      Yes    10.0   \n",
       "19965                  N  ãã¼ãã£ã¼ã¸è¡ããªãã      Yes     7.0   \n",
       "19966                  N                NaN       No    14.0   \n",
       "19967                  N                NaN       No    14.0   \n",
       "\n",
       "                 address  postcode state    country  property_valuation  \n",
       "0      984 Hoepker Court      3064   VIC  Australia                   6  \n",
       "1      984 Hoepker Court      3064   VIC  Australia                   6  \n",
       "2      984 Hoepker Court      3064   VIC  Australia                   6  \n",
       "19965      724 West Park      2112   NSW  Australia                  11  \n",
       "19966     8 Becker Drive      4868   QLD  Australia                   4  \n",
       "19967     8 Becker Drive      4868   QLD  Australia                   4  "
      ]
     },
     "execution_count": 5,
     "metadata": {},
     "output_type": "execute_result"
    }
   ],
   "source": [
    "#peeking at the head and tail of the data.\n",
    "comb_df.head(3).append(comb_df.tail(3))"
   ]
  },
  {
   "cell_type": "code",
   "execution_count": 6,
   "metadata": {},
   "outputs": [
    {
     "name": "stdout",
     "output_type": "stream",
     "text": [
      "<class 'pandas.core.frame.DataFrame'>\n",
      "Int64Index: 19968 entries, 0 to 19967\n",
      "Data columns (total 30 columns):\n",
      " #   Column                               Non-Null Count  Dtype         \n",
      "---  ------                               --------------  -----         \n",
      " 0   transaction_id                       19968 non-null  int64         \n",
      " 1   product_id                           19968 non-null  int64         \n",
      " 2   customer_id                          19968 non-null  int64         \n",
      " 3   transaction_date                     19968 non-null  datetime64[ns]\n",
      " 4   online_order                         19609 non-null  float64       \n",
      " 5   order_status                         19968 non-null  object        \n",
      " 6   brand                                19773 non-null  object        \n",
      " 7   product_line                         19773 non-null  object        \n",
      " 8   product_class                        19773 non-null  object        \n",
      " 9   product_size                         19773 non-null  object        \n",
      " 10  list_price                           19968 non-null  float64       \n",
      " 11  standard_cost                        19773 non-null  float64       \n",
      " 12  product_first_sold_date              19773 non-null  float64       \n",
      " 13  first_name                           19968 non-null  object        \n",
      " 14  last_name                            19326 non-null  object        \n",
      " 15  gender                               19968 non-null  object        \n",
      " 16  past_3_years_bike_related_purchases  19968 non-null  int64         \n",
      " 17  DOB                                  19522 non-null  datetime64[ns]\n",
      " 18  job_title                            17589 non-null  object        \n",
      " 19  job_industry_category                16746 non-null  object        \n",
      " 20  wealth_segment                       19968 non-null  object        \n",
      " 21  deceased_indicator                   19968 non-null  object        \n",
      " 22  default                              18517 non-null  object        \n",
      " 23  owns_car                             19968 non-null  object        \n",
      " 24  tenure                               19522 non-null  float64       \n",
      " 25  address                              19968 non-null  object        \n",
      " 26  postcode                             19968 non-null  int64         \n",
      " 27  state                                19968 non-null  object        \n",
      " 28  country                              19968 non-null  object        \n",
      " 29  property_valuation                   19968 non-null  int64         \n",
      "dtypes: datetime64[ns](2), float64(5), int64(6), object(17)\n",
      "memory usage: 4.7+ MB\n"
     ]
    }
   ],
   "source": [
    "# displaying the columns, count, and dtype of each column\n",
    "comb_df.info()"
   ]
  },
  {
   "cell_type": "code",
   "execution_count": 7,
   "metadata": {},
   "outputs": [],
   "source": [
    "# renaming column\n",
    "comb_df.rename(columns={'past_3_years_bike_related_purchases':'3yrs_purchases'}, inplace=True)"
   ]
  },
  {
   "cell_type": "code",
   "execution_count": 8,
   "metadata": {},
   "outputs": [],
   "source": [
    "# converting the DOB to age \n",
    "now = pd.Timestamp('now')\n",
    "comb_df['age'] = (now.year - comb_df['DOB'].dt.year) - ((now.month - comb_df['DOB'].dt.month) < 0)"
   ]
  },
  {
   "cell_type": "code",
   "execution_count": 9,
   "metadata": {},
   "outputs": [
    {
     "name": "stdout",
     "output_type": "stream",
     "text": [
      "18.0\n",
      "177.0\n"
     ]
    }
   ],
   "source": [
    "# minimum and maximum age in the dataset\n",
    "print(min(comb_df['age']), max(comb_df['age']), sep='\\n')"
   ]
  },
  {
   "cell_type": "code",
   "execution_count": 10,
   "metadata": {},
   "outputs": [
    {
     "data": {
      "text/plain": [
       "array([ 66.,  41.,  43.,  59.,  24.,  62.,  42.,  35.,  50.,  61.,  39.,\n",
       "        67.,  37.,  45.,  nan,  55.,  64.,  47.,  31.,  44.,  49.,  53.,\n",
       "        28.,  58.,  51.,  40.,  36.,  23.,  56.,  22.,  33.,  34.,  26.,\n",
       "        54.,  52.,  57.,  21.,  46.,  20.,  25.,  63.,  29.,  48.,  30.,\n",
       "        38.,  60.,  27.,  32.,  65.,  19.,  89., 177.,  80.,  77.,  85.,\n",
       "        18.])"
      ]
     },
     "execution_count": 10,
     "metadata": {},
     "output_type": "execute_result"
    }
   ],
   "source": [
    "# unique age values\n",
    "comb_df['age'].unique()"
   ]
  },
  {
   "cell_type": "code",
   "execution_count": 11,
   "metadata": {},
   "outputs": [
    {
     "data": {
      "text/html": [
       "<div>\n",
       "<style scoped>\n",
       "    .dataframe tbody tr th:only-of-type {\n",
       "        vertical-align: middle;\n",
       "    }\n",
       "\n",
       "    .dataframe tbody tr th {\n",
       "        vertical-align: top;\n",
       "    }\n",
       "\n",
       "    .dataframe thead th {\n",
       "        text-align: right;\n",
       "    }\n",
       "</style>\n",
       "<table border=\"1\" class=\"dataframe\">\n",
       "  <thead>\n",
       "    <tr style=\"text-align: right;\">\n",
       "      <th></th>\n",
       "      <th>transaction_id</th>\n",
       "      <th>product_id</th>\n",
       "      <th>customer_id</th>\n",
       "      <th>transaction_date</th>\n",
       "      <th>online_order</th>\n",
       "      <th>order_status</th>\n",
       "      <th>brand</th>\n",
       "      <th>product_line</th>\n",
       "      <th>product_class</th>\n",
       "      <th>product_size</th>\n",
       "      <th>list_price</th>\n",
       "      <th>standard_cost</th>\n",
       "      <th>product_first_sold_date</th>\n",
       "      <th>first_name</th>\n",
       "      <th>last_name</th>\n",
       "      <th>gender</th>\n",
       "      <th>3yrs_purchases</th>\n",
       "      <th>DOB</th>\n",
       "      <th>job_title</th>\n",
       "      <th>job_industry_category</th>\n",
       "      <th>wealth_segment</th>\n",
       "      <th>deceased_indicator</th>\n",
       "      <th>default</th>\n",
       "      <th>owns_car</th>\n",
       "      <th>tenure</th>\n",
       "      <th>address</th>\n",
       "      <th>postcode</th>\n",
       "      <th>state</th>\n",
       "      <th>country</th>\n",
       "      <th>property_valuation</th>\n",
       "      <th>age</th>\n",
       "    </tr>\n",
       "  </thead>\n",
       "  <tbody>\n",
       "    <tr>\n",
       "      <th>5894</th>\n",
       "      <td>1039</td>\n",
       "      <td>8</td>\n",
       "      <td>34</td>\n",
       "      <td>2017-07-01</td>\n",
       "      <td>1.0</td>\n",
       "      <td>Approved</td>\n",
       "      <td>Solex</td>\n",
       "      <td>Road</td>\n",
       "      <td>medium</td>\n",
       "      <td>small</td>\n",
       "      <td>1703.52</td>\n",
       "      <td>1516.13</td>\n",
       "      <td>40649.0</td>\n",
       "      <td>Jephthah</td>\n",
       "      <td>Bachmann</td>\n",
       "      <td>U</td>\n",
       "      <td>59</td>\n",
       "      <td>1843-12-21</td>\n",
       "      <td>Legal Assistant</td>\n",
       "      <td>IT</td>\n",
       "      <td>Affluent Customer</td>\n",
       "      <td>N</td>\n",
       "      <td>NaN</td>\n",
       "      <td>No</td>\n",
       "      <td>20.0</td>\n",
       "      <td>833 Luster Way</td>\n",
       "      <td>4005</td>\n",
       "      <td>QLD</td>\n",
       "      <td>Australia</td>\n",
       "      <td>8</td>\n",
       "      <td>177.0</td>\n",
       "    </tr>\n",
       "    <tr>\n",
       "      <th>5895</th>\n",
       "      <td>1107</td>\n",
       "      <td>15</td>\n",
       "      <td>34</td>\n",
       "      <td>2017-08-22</td>\n",
       "      <td>0.0</td>\n",
       "      <td>Approved</td>\n",
       "      <td>Norco Bicycles</td>\n",
       "      <td>Standard</td>\n",
       "      <td>low</td>\n",
       "      <td>medium</td>\n",
       "      <td>958.74</td>\n",
       "      <td>748.90</td>\n",
       "      <td>38693.0</td>\n",
       "      <td>Jephthah</td>\n",
       "      <td>Bachmann</td>\n",
       "      <td>U</td>\n",
       "      <td>59</td>\n",
       "      <td>1843-12-21</td>\n",
       "      <td>Legal Assistant</td>\n",
       "      <td>IT</td>\n",
       "      <td>Affluent Customer</td>\n",
       "      <td>N</td>\n",
       "      <td>NaN</td>\n",
       "      <td>No</td>\n",
       "      <td>20.0</td>\n",
       "      <td>833 Luster Way</td>\n",
       "      <td>4005</td>\n",
       "      <td>QLD</td>\n",
       "      <td>Australia</td>\n",
       "      <td>8</td>\n",
       "      <td>177.0</td>\n",
       "    </tr>\n",
       "    <tr>\n",
       "      <th>5896</th>\n",
       "      <td>2638</td>\n",
       "      <td>83</td>\n",
       "      <td>34</td>\n",
       "      <td>2017-04-07</td>\n",
       "      <td>0.0</td>\n",
       "      <td>Approved</td>\n",
       "      <td>Solex</td>\n",
       "      <td>Touring</td>\n",
       "      <td>medium</td>\n",
       "      <td>large</td>\n",
       "      <td>2083.94</td>\n",
       "      <td>675.03</td>\n",
       "      <td>41533.0</td>\n",
       "      <td>Jephthah</td>\n",
       "      <td>Bachmann</td>\n",
       "      <td>U</td>\n",
       "      <td>59</td>\n",
       "      <td>1843-12-21</td>\n",
       "      <td>Legal Assistant</td>\n",
       "      <td>IT</td>\n",
       "      <td>Affluent Customer</td>\n",
       "      <td>N</td>\n",
       "      <td>NaN</td>\n",
       "      <td>No</td>\n",
       "      <td>20.0</td>\n",
       "      <td>833 Luster Way</td>\n",
       "      <td>4005</td>\n",
       "      <td>QLD</td>\n",
       "      <td>Australia</td>\n",
       "      <td>8</td>\n",
       "      <td>177.0</td>\n",
       "    </tr>\n",
       "    <tr>\n",
       "      <th>5897</th>\n",
       "      <td>9044</td>\n",
       "      <td>12</td>\n",
       "      <td>34</td>\n",
       "      <td>2017-02-13</td>\n",
       "      <td>0.0</td>\n",
       "      <td>Approved</td>\n",
       "      <td>WeareA2B</td>\n",
       "      <td>Standard</td>\n",
       "      <td>medium</td>\n",
       "      <td>medium</td>\n",
       "      <td>1231.15</td>\n",
       "      <td>161.60</td>\n",
       "      <td>38216.0</td>\n",
       "      <td>Jephthah</td>\n",
       "      <td>Bachmann</td>\n",
       "      <td>U</td>\n",
       "      <td>59</td>\n",
       "      <td>1843-12-21</td>\n",
       "      <td>Legal Assistant</td>\n",
       "      <td>IT</td>\n",
       "      <td>Affluent Customer</td>\n",
       "      <td>N</td>\n",
       "      <td>NaN</td>\n",
       "      <td>No</td>\n",
       "      <td>20.0</td>\n",
       "      <td>833 Luster Way</td>\n",
       "      <td>4005</td>\n",
       "      <td>QLD</td>\n",
       "      <td>Australia</td>\n",
       "      <td>8</td>\n",
       "      <td>177.0</td>\n",
       "    </tr>\n",
       "    <tr>\n",
       "      <th>5898</th>\n",
       "      <td>9792</td>\n",
       "      <td>60</td>\n",
       "      <td>34</td>\n",
       "      <td>2017-06-25</td>\n",
       "      <td>1.0</td>\n",
       "      <td>Approved</td>\n",
       "      <td>Giant Bicycles</td>\n",
       "      <td>Standard</td>\n",
       "      <td>high</td>\n",
       "      <td>small</td>\n",
       "      <td>1977.36</td>\n",
       "      <td>1759.85</td>\n",
       "      <td>40779.0</td>\n",
       "      <td>Jephthah</td>\n",
       "      <td>Bachmann</td>\n",
       "      <td>U</td>\n",
       "      <td>59</td>\n",
       "      <td>1843-12-21</td>\n",
       "      <td>Legal Assistant</td>\n",
       "      <td>IT</td>\n",
       "      <td>Affluent Customer</td>\n",
       "      <td>N</td>\n",
       "      <td>NaN</td>\n",
       "      <td>No</td>\n",
       "      <td>20.0</td>\n",
       "      <td>833 Luster Way</td>\n",
       "      <td>4005</td>\n",
       "      <td>QLD</td>\n",
       "      <td>Australia</td>\n",
       "      <td>8</td>\n",
       "      <td>177.0</td>\n",
       "    </tr>\n",
       "    <tr>\n",
       "      <th>5899</th>\n",
       "      <td>12083</td>\n",
       "      <td>13</td>\n",
       "      <td>34</td>\n",
       "      <td>2017-07-23</td>\n",
       "      <td>0.0</td>\n",
       "      <td>Approved</td>\n",
       "      <td>Solex</td>\n",
       "      <td>Standard</td>\n",
       "      <td>medium</td>\n",
       "      <td>medium</td>\n",
       "      <td>1163.89</td>\n",
       "      <td>589.27</td>\n",
       "      <td>42560.0</td>\n",
       "      <td>Jephthah</td>\n",
       "      <td>Bachmann</td>\n",
       "      <td>U</td>\n",
       "      <td>59</td>\n",
       "      <td>1843-12-21</td>\n",
       "      <td>Legal Assistant</td>\n",
       "      <td>IT</td>\n",
       "      <td>Affluent Customer</td>\n",
       "      <td>N</td>\n",
       "      <td>NaN</td>\n",
       "      <td>No</td>\n",
       "      <td>20.0</td>\n",
       "      <td>833 Luster Way</td>\n",
       "      <td>4005</td>\n",
       "      <td>QLD</td>\n",
       "      <td>Australia</td>\n",
       "      <td>8</td>\n",
       "      <td>177.0</td>\n",
       "    </tr>\n",
       "    <tr>\n",
       "      <th>5900</th>\n",
       "      <td>16935</td>\n",
       "      <td>0</td>\n",
       "      <td>34</td>\n",
       "      <td>2017-02-14</td>\n",
       "      <td>0.0</td>\n",
       "      <td>Approved</td>\n",
       "      <td>NaN</td>\n",
       "      <td>NaN</td>\n",
       "      <td>NaN</td>\n",
       "      <td>NaN</td>\n",
       "      <td>1034.17</td>\n",
       "      <td>NaN</td>\n",
       "      <td>NaN</td>\n",
       "      <td>Jephthah</td>\n",
       "      <td>Bachmann</td>\n",
       "      <td>U</td>\n",
       "      <td>59</td>\n",
       "      <td>1843-12-21</td>\n",
       "      <td>Legal Assistant</td>\n",
       "      <td>IT</td>\n",
       "      <td>Affluent Customer</td>\n",
       "      <td>N</td>\n",
       "      <td>NaN</td>\n",
       "      <td>No</td>\n",
       "      <td>20.0</td>\n",
       "      <td>833 Luster Way</td>\n",
       "      <td>4005</td>\n",
       "      <td>QLD</td>\n",
       "      <td>Australia</td>\n",
       "      <td>8</td>\n",
       "      <td>177.0</td>\n",
       "    </tr>\n",
       "    <tr>\n",
       "      <th>5901</th>\n",
       "      <td>17808</td>\n",
       "      <td>96</td>\n",
       "      <td>34</td>\n",
       "      <td>2017-04-10</td>\n",
       "      <td>1.0</td>\n",
       "      <td>Approved</td>\n",
       "      <td>WeareA2B</td>\n",
       "      <td>Road</td>\n",
       "      <td>low</td>\n",
       "      <td>small</td>\n",
       "      <td>1172.78</td>\n",
       "      <td>1043.77</td>\n",
       "      <td>37539.0</td>\n",
       "      <td>Jephthah</td>\n",
       "      <td>Bachmann</td>\n",
       "      <td>U</td>\n",
       "      <td>59</td>\n",
       "      <td>1843-12-21</td>\n",
       "      <td>Legal Assistant</td>\n",
       "      <td>IT</td>\n",
       "      <td>Affluent Customer</td>\n",
       "      <td>N</td>\n",
       "      <td>NaN</td>\n",
       "      <td>No</td>\n",
       "      <td>20.0</td>\n",
       "      <td>833 Luster Way</td>\n",
       "      <td>4005</td>\n",
       "      <td>QLD</td>\n",
       "      <td>Australia</td>\n",
       "      <td>8</td>\n",
       "      <td>177.0</td>\n",
       "    </tr>\n",
       "    <tr>\n",
       "      <th>5902</th>\n",
       "      <td>19291</td>\n",
       "      <td>65</td>\n",
       "      <td>34</td>\n",
       "      <td>2017-09-19</td>\n",
       "      <td>0.0</td>\n",
       "      <td>Approved</td>\n",
       "      <td>WeareA2B</td>\n",
       "      <td>Standard</td>\n",
       "      <td>medium</td>\n",
       "      <td>medium</td>\n",
       "      <td>1807.45</td>\n",
       "      <td>778.69</td>\n",
       "      <td>42145.0</td>\n",
       "      <td>Jephthah</td>\n",
       "      <td>Bachmann</td>\n",
       "      <td>U</td>\n",
       "      <td>59</td>\n",
       "      <td>1843-12-21</td>\n",
       "      <td>Legal Assistant</td>\n",
       "      <td>IT</td>\n",
       "      <td>Affluent Customer</td>\n",
       "      <td>N</td>\n",
       "      <td>NaN</td>\n",
       "      <td>No</td>\n",
       "      <td>20.0</td>\n",
       "      <td>833 Luster Way</td>\n",
       "      <td>4005</td>\n",
       "      <td>QLD</td>\n",
       "      <td>Australia</td>\n",
       "      <td>8</td>\n",
       "      <td>177.0</td>\n",
       "    </tr>\n",
       "  </tbody>\n",
       "</table>\n",
       "</div>"
      ],
      "text/plain": [
       "      transaction_id  product_id  customer_id transaction_date  online_order  \\\n",
       "5894            1039           8           34       2017-07-01           1.0   \n",
       "5895            1107          15           34       2017-08-22           0.0   \n",
       "5896            2638          83           34       2017-04-07           0.0   \n",
       "5897            9044          12           34       2017-02-13           0.0   \n",
       "5898            9792          60           34       2017-06-25           1.0   \n",
       "5899           12083          13           34       2017-07-23           0.0   \n",
       "5900           16935           0           34       2017-02-14           0.0   \n",
       "5901           17808          96           34       2017-04-10           1.0   \n",
       "5902           19291          65           34       2017-09-19           0.0   \n",
       "\n",
       "     order_status           brand product_line product_class product_size  \\\n",
       "5894     Approved           Solex         Road        medium        small   \n",
       "5895     Approved  Norco Bicycles     Standard           low       medium   \n",
       "5896     Approved           Solex      Touring        medium        large   \n",
       "5897     Approved        WeareA2B     Standard        medium       medium   \n",
       "5898     Approved  Giant Bicycles     Standard          high        small   \n",
       "5899     Approved           Solex     Standard        medium       medium   \n",
       "5900     Approved             NaN          NaN           NaN          NaN   \n",
       "5901     Approved        WeareA2B         Road           low        small   \n",
       "5902     Approved        WeareA2B     Standard        medium       medium   \n",
       "\n",
       "      list_price  standard_cost  product_first_sold_date first_name last_name  \\\n",
       "5894     1703.52        1516.13                  40649.0   Jephthah  Bachmann   \n",
       "5895      958.74         748.90                  38693.0   Jephthah  Bachmann   \n",
       "5896     2083.94         675.03                  41533.0   Jephthah  Bachmann   \n",
       "5897     1231.15         161.60                  38216.0   Jephthah  Bachmann   \n",
       "5898     1977.36        1759.85                  40779.0   Jephthah  Bachmann   \n",
       "5899     1163.89         589.27                  42560.0   Jephthah  Bachmann   \n",
       "5900     1034.17            NaN                      NaN   Jephthah  Bachmann   \n",
       "5901     1172.78        1043.77                  37539.0   Jephthah  Bachmann   \n",
       "5902     1807.45         778.69                  42145.0   Jephthah  Bachmann   \n",
       "\n",
       "     gender  3yrs_purchases        DOB        job_title job_industry_category  \\\n",
       "5894      U              59 1843-12-21  Legal Assistant                    IT   \n",
       "5895      U              59 1843-12-21  Legal Assistant                    IT   \n",
       "5896      U              59 1843-12-21  Legal Assistant                    IT   \n",
       "5897      U              59 1843-12-21  Legal Assistant                    IT   \n",
       "5898      U              59 1843-12-21  Legal Assistant                    IT   \n",
       "5899      U              59 1843-12-21  Legal Assistant                    IT   \n",
       "5900      U              59 1843-12-21  Legal Assistant                    IT   \n",
       "5901      U              59 1843-12-21  Legal Assistant                    IT   \n",
       "5902      U              59 1843-12-21  Legal Assistant                    IT   \n",
       "\n",
       "         wealth_segment deceased_indicator default owns_car  tenure  \\\n",
       "5894  Affluent Customer                  N     NaN       No    20.0   \n",
       "5895  Affluent Customer                  N     NaN       No    20.0   \n",
       "5896  Affluent Customer                  N     NaN       No    20.0   \n",
       "5897  Affluent Customer                  N     NaN       No    20.0   \n",
       "5898  Affluent Customer                  N     NaN       No    20.0   \n",
       "5899  Affluent Customer                  N     NaN       No    20.0   \n",
       "5900  Affluent Customer                  N     NaN       No    20.0   \n",
       "5901  Affluent Customer                  N     NaN       No    20.0   \n",
       "5902  Affluent Customer                  N     NaN       No    20.0   \n",
       "\n",
       "             address  postcode state    country  property_valuation    age  \n",
       "5894  833 Luster Way      4005   QLD  Australia                   8  177.0  \n",
       "5895  833 Luster Way      4005   QLD  Australia                   8  177.0  \n",
       "5896  833 Luster Way      4005   QLD  Australia                   8  177.0  \n",
       "5897  833 Luster Way      4005   QLD  Australia                   8  177.0  \n",
       "5898  833 Luster Way      4005   QLD  Australia                   8  177.0  \n",
       "5899  833 Luster Way      4005   QLD  Australia                   8  177.0  \n",
       "5900  833 Luster Way      4005   QLD  Australia                   8  177.0  \n",
       "5901  833 Luster Way      4005   QLD  Australia                   8  177.0  \n",
       "5902  833 Luster Way      4005   QLD  Australia                   8  177.0  "
      ]
     },
     "execution_count": 11,
     "metadata": {},
     "output_type": "execute_result"
    }
   ],
   "source": [
    "# identifying columns where age = 177\n",
    "comb_df[comb_df['age'] == 177.0]"
   ]
  },
  {
   "cell_type": "code",
   "execution_count": 12,
   "metadata": {},
   "outputs": [],
   "source": [
    "# dropping rows where age is equal to 177\n",
    "comb_df.drop([5894, 5895, 5896, 5897, 5898, 5899, 5900, 5901, 5902], inplace=True)"
   ]
  },
  {
   "cell_type": "code",
   "execution_count": 13,
   "metadata": {},
   "outputs": [],
   "source": [
    "# dropping rows with NAN in age column by first selecting only columns without NAN and dropping them\n",
    "comb_df = comb_df[comb_df['age'].notna()]"
   ]
  },
  {
   "cell_type": "code",
   "execution_count": 14,
   "metadata": {},
   "outputs": [
    {
     "data": {
      "text/plain": [
       "array([66., 41., 43., 59., 24., 62., 42., 35., 50., 61., 39., 67., 37.,\n",
       "       45., 55., 64., 47., 31., 44., 49., 53., 28., 58., 51., 40., 36.,\n",
       "       23., 56., 22., 33., 34., 26., 54., 52., 57., 21., 46., 20., 25.,\n",
       "       63., 29., 48., 30., 38., 60., 27., 32., 65., 19., 89., 80., 77.,\n",
       "       85., 18.])"
      ]
     },
     "execution_count": 14,
     "metadata": {},
     "output_type": "execute_result"
    }
   ],
   "source": [
    "# unique age value\n",
    "comb_df['age'].unique()"
   ]
  },
  {
   "cell_type": "code",
   "execution_count": 15,
   "metadata": {},
   "outputs": [
    {
     "name": "stdout",
     "output_type": "stream",
     "text": [
      "18.0\n",
      "89.0\n"
     ]
    }
   ],
   "source": [
    "# minimum and maximum age in the dataset\n",
    "print(min(comb_df['age']), max(comb_df['age']), sep='\\n')"
   ]
  },
  {
   "cell_type": "code",
   "execution_count": 16,
   "metadata": {},
   "outputs": [],
   "source": [
    "# categorizing the age column and putting it in a seperate column \n",
    "cut_points = [17,35,60,90]\n",
    "label_names = [\"young adult\",\"adult\",\"senior\"]\n",
    "comb_df[\"age_category\"] = pd.cut(comb_df[\"age\"], cut_points, labels=label_names)"
   ]
  },
  {
   "cell_type": "code",
   "execution_count": 17,
   "metadata": {},
   "outputs": [],
   "source": [
    "# selecting only the feature present in both new customer data and transaction data\n",
    "comb_df = comb_df[['gender', '3yrs_purchases', 'job_industry_category', 'wealth_segment', 'owns_car', 'state', \n",
    "                   'property_valuation', 'tenure', 'age_category', 'order_status']]"
   ]
  },
  {
   "cell_type": "code",
   "execution_count": 18,
   "metadata": {},
   "outputs": [
    {
     "name": "stdout",
     "output_type": "stream",
     "text": [
      "<class 'pandas.core.frame.DataFrame'>\n",
      "Int64Index: 19513 entries, 0 to 19967\n",
      "Data columns (total 10 columns):\n",
      " #   Column                 Non-Null Count  Dtype   \n",
      "---  ------                 --------------  -----   \n",
      " 0   gender                 19513 non-null  object  \n",
      " 1   3yrs_purchases         19513 non-null  int64   \n",
      " 2   job_industry_category  16291 non-null  object  \n",
      " 3   wealth_segment         19513 non-null  object  \n",
      " 4   owns_car               19513 non-null  object  \n",
      " 5   state                  19513 non-null  object  \n",
      " 6   property_valuation     19513 non-null  int64   \n",
      " 7   tenure                 19513 non-null  float64 \n",
      " 8   age_category           19513 non-null  category\n",
      " 9   order_status           19513 non-null  object  \n",
      "dtypes: category(1), float64(1), int64(2), object(6)\n",
      "memory usage: 1.5+ MB\n"
     ]
    }
   ],
   "source": [
    "comb_df.info()"
   ]
  },
  {
   "cell_type": "code",
   "execution_count": 19,
   "metadata": {},
   "outputs": [
    {
     "data": {
      "text/plain": [
       "array(['Male', 'Female', 'F', 'M', 'Femal'], dtype=object)"
      ]
     },
     "execution_count": 19,
     "metadata": {},
     "output_type": "execute_result"
    }
   ],
   "source": [
    "# unique gender values\n",
    "comb_df['gender'].unique()"
   ]
  },
  {
   "cell_type": "code",
   "execution_count": 20,
   "metadata": {},
   "outputs": [],
   "source": [
    "# cleaning the gendar column\n",
    "comb_df['gender'] = comb_df['gender'].replace('F', 'Female')\n",
    "comb_df['gender'] = comb_df['gender'].replace('M', 'Male')\n",
    "comb_df['gender'] = comb_df['gender'].replace('Femal', 'Female')"
   ]
  },
  {
   "cell_type": "code",
   "execution_count": 21,
   "metadata": {},
   "outputs": [
    {
     "data": {
      "text/plain": [
       "array(['Male', 'Female'], dtype=object)"
      ]
     },
     "execution_count": 21,
     "metadata": {},
     "output_type": "execute_result"
    }
   ],
   "source": [
    "# unique gendere value\n",
    "comb_df['gender'].unique()"
   ]
  },
  {
   "cell_type": "code",
   "execution_count": 22,
   "metadata": {},
   "outputs": [
    {
     "data": {
      "text/plain": [
       "array([19, 89,  9, 83, 29,  3, 56, 67, 97, 65, 53, 14, 73, 31, 62, 66, 32,\n",
       "       72, 21, 55, 51,  2, 20,  7, 58, 27, 80, 47, 78, 23, 77,  5, 13, 69,\n",
       "       24, 61, 92,  0, 63, 94, 15, 12, 35, 25, 75, 71, 60, 17, 28, 84, 70,\n",
       "       93, 34, 96, 38, 95, 33, 99, 39, 40, 26, 74, 54, 48, 91,  6, 79, 37,\n",
       "       41, 42, 43, 57, 16,  1,  4, 82, 90,  8, 52, 87, 18, 86, 76, 81, 11,\n",
       "       98, 46, 88, 36, 50, 64, 49, 44, 10, 59, 85, 22, 30, 68, 45],\n",
       "      dtype=int64)"
      ]
     },
     "execution_count": 22,
     "metadata": {},
     "output_type": "execute_result"
    }
   ],
   "source": [
    "# 3yrs purchases unique values\n",
    "comb_df['3yrs_purchases'].unique()"
   ]
  },
  {
   "cell_type": "code",
   "execution_count": 23,
   "metadata": {},
   "outputs": [
    {
     "data": {
      "text/plain": [
       "array(['Financial Services', 'Health', 'Retail', 'Property',\n",
       "       'Manufacturing', 'Entertainment', 'IT', nan, 'Argiculture',\n",
       "       'Telecommunications'], dtype=object)"
      ]
     },
     "execution_count": 23,
     "metadata": {},
     "output_type": "execute_result"
    }
   ],
   "source": [
    "# job industry category unique values\n",
    "comb_df['job_industry_category'].unique()"
   ]
  },
  {
   "cell_type": "code",
   "execution_count": 24,
   "metadata": {},
   "outputs": [],
   "source": [
    "# dropping rows with NAN in job_industry_category by selecting only columns without NAN\n",
    "comb_df = comb_df[comb_df['job_industry_category'].notna()]"
   ]
  },
  {
   "cell_type": "code",
   "execution_count": 25,
   "metadata": {},
   "outputs": [
    {
     "data": {
      "text/plain": [
       "array(['Mass Customer', 'Affluent Customer', 'High Net Worth'],\n",
       "      dtype=object)"
      ]
     },
     "execution_count": 25,
     "metadata": {},
     "output_type": "execute_result"
    }
   ],
   "source": [
    "# unique wealth segement values\n",
    "comb_df['wealth_segment'].unique()"
   ]
  },
  {
   "cell_type": "code",
   "execution_count": 26,
   "metadata": {},
   "outputs": [
    {
     "data": {
      "text/plain": [
       "array(['Yes', 'No'], dtype=object)"
      ]
     },
     "execution_count": 26,
     "metadata": {},
     "output_type": "execute_result"
    }
   ],
   "source": [
    "# unique owns car values\n",
    "comb_df['owns_car'].unique()"
   ]
  },
  {
   "cell_type": "code",
   "execution_count": 27,
   "metadata": {},
   "outputs": [
    {
     "data": {
      "text/plain": [
       "array([10., 22., 16.,  2., 12., 18.,  6.,  7.,  8., 13., 19.,  4.,  3.,\n",
       "        9., 15., 17.,  1., 20., 21.,  5., 14., 11.])"
      ]
     },
     "execution_count": 27,
     "metadata": {},
     "output_type": "execute_result"
    }
   ],
   "source": [
    "# unique tenure values\n",
    "comb_df['tenure'].unique()"
   ]
  },
  {
   "cell_type": "code",
   "execution_count": 28,
   "metadata": {},
   "outputs": [
    {
     "data": {
      "text/plain": [
       "array(['VIC', 'NSW', 'QLD', 'Victoria', 'New South Wales'], dtype=object)"
      ]
     },
     "execution_count": 28,
     "metadata": {},
     "output_type": "execute_result"
    }
   ],
   "source": [
    "# unique sate values\n",
    "comb_df['state'].unique()"
   ]
  },
  {
   "cell_type": "code",
   "execution_count": 29,
   "metadata": {},
   "outputs": [],
   "source": [
    "# cleaning state column\n",
    "comb_df['state'] = comb_df['state'].replace('Victoria', 'VIC')\n",
    "comb_df['state'] = comb_df['state'].replace('New South Wales', 'NSW')"
   ]
  },
  {
   "cell_type": "code",
   "execution_count": 30,
   "metadata": {},
   "outputs": [
    {
     "data": {
      "text/plain": [
       "array(['VIC', 'NSW', 'QLD'], dtype=object)"
      ]
     },
     "execution_count": 30,
     "metadata": {},
     "output_type": "execute_result"
    }
   ],
   "source": [
    "# unique sate values\n",
    "comb_df['state'].unique()"
   ]
  },
  {
   "cell_type": "code",
   "execution_count": 31,
   "metadata": {},
   "outputs": [
    {
     "data": {
      "text/plain": [
       "array([ 6,  5,  1, 10,  7,  4,  8,  9, 11,  2, 12,  3], dtype=int64)"
      ]
     },
     "execution_count": 31,
     "metadata": {},
     "output_type": "execute_result"
    }
   ],
   "source": [
    "# unique property evaluation values\n",
    "comb_df['property_valuation'].unique()"
   ]
  },
  {
   "cell_type": "code",
   "execution_count": 32,
   "metadata": {},
   "outputs": [
    {
     "data": {
      "text/plain": [
       "['senior', 'adult', 'young adult']\n",
       "Categories (3, object): ['young adult' < 'adult' < 'senior']"
      ]
     },
     "execution_count": 32,
     "metadata": {},
     "output_type": "execute_result"
    }
   ],
   "source": [
    "# unique age category value\n",
    "comb_df['age_category'].unique()"
   ]
  },
  {
   "cell_type": "code",
   "execution_count": 33,
   "metadata": {},
   "outputs": [],
   "source": [
    "# converting age_category column from category to string\n",
    "comb_df['age_category'] = comb_df['age_category'].astype(str)"
   ]
  },
  {
   "cell_type": "code",
   "execution_count": 34,
   "metadata": {},
   "outputs": [
    {
     "data": {
      "text/plain": [
       "array(['Approved', 'Cancelled'], dtype=object)"
      ]
     },
     "execution_count": 34,
     "metadata": {},
     "output_type": "execute_result"
    }
   ],
   "source": [
    "# unique order status values\n",
    "comb_df['order_status'].unique()"
   ]
  },
  {
   "cell_type": "code",
   "execution_count": 35,
   "metadata": {},
   "outputs": [
    {
     "data": {
      "text/plain": [
       "Approved     16138\n",
       "Cancelled      153\n",
       "Name: order_status, dtype: int64"
      ]
     },
     "execution_count": 35,
     "metadata": {},
     "output_type": "execute_result"
    }
   ],
   "source": [
    "# order_status count\n",
    "comb_df['order_status'].value_counts()"
   ]
  },
  {
   "cell_type": "code",
   "execution_count": 36,
   "metadata": {
    "scrolled": true
   },
   "outputs": [
    {
     "data": {
      "text/plain": [
       "<AxesSubplot:>"
      ]
     },
     "execution_count": 36,
     "metadata": {},
     "output_type": "execute_result"
    },
    {
     "data": {
      "image/png": "[encoded data removed]",
      "text/plain": [
       "<Figure size 432x288 with 1 Axes>"
      ]
     },
     "metadata": {},
     "output_type": "display_data"
    }
   ],
   "source": [
    "# order_status distribution\n",
    "order_status_plot = pd.value_counts(comb_df['order_status'], sort=True)\n",
    "order_status_plot.plot(kind='bar', rot=0)"
   ]
  },
  {
   "cell_type": "code",
   "execution_count": 37,
   "metadata": {},
   "outputs": [
    {
     "data": {
      "text/plain": [
       "Approved     99.060831\n",
       "Cancelled     0.939169\n",
       "Name: order_status, dtype: float64"
      ]
     },
     "execution_count": 37,
     "metadata": {},
     "output_type": "execute_result"
    }
   ],
   "source": [
    "# order_status percentage distribution\n",
    "(comb_df['order_status'].value_counts()/comb_df.shape[0]*100)"
   ]
  },
  {
   "cell_type": "code",
   "execution_count": 38,
   "metadata": {},
   "outputs": [
    {
     "data": {
      "text/plain": [
       "array([1, 0], dtype=int64)"
      ]
     },
     "execution_count": 38,
     "metadata": {},
     "output_type": "execute_result"
    }
   ],
   "source": [
    "# coding order_status to numbers\n",
    "order_replace = {\"order_status\" : {\"Approved\": 1, \"Cancelled\": 0,}}\n",
    "comb_df = comb_df.replace(order_replace)\n",
    "comb_df.order_status.unique()"
   ]
  },
  {
   "cell_type": "code",
   "execution_count": 39,
   "metadata": {},
   "outputs": [
    {
     "name": "stdout",
     "output_type": "stream",
     "text": [
      "<class 'pandas.core.frame.DataFrame'>\n",
      "Int64Index: 16291 entries, 0 to 19967\n",
      "Data columns (total 10 columns):\n",
      " #   Column                 Non-Null Count  Dtype  \n",
      "---  ------                 --------------  -----  \n",
      " 0   gender                 16291 non-null  object \n",
      " 1   3yrs_purchases         16291 non-null  int64  \n",
      " 2   job_industry_category  16291 non-null  object \n",
      " 3   wealth_segment         16291 non-null  object \n",
      " 4   owns_car               16291 non-null  object \n",
      " 5   state                  16291 non-null  object \n",
      " 6   property_valuation     16291 non-null  int64  \n",
      " 7   tenure                 16291 non-null  float64\n",
      " 8   age_category           16291 non-null  object \n",
      " 9   order_status           16291 non-null  int64  \n",
      "dtypes: float64(1), int64(3), object(6)\n",
      "memory usage: 1.4+ MB\n"
     ]
    }
   ],
   "source": [
    "comb_df.info()"
   ]
  },
  {
   "cell_type": "code",
   "execution_count": 40,
   "metadata": {},
   "outputs": [
    {
     "data": {
      "text/html": [
       "<div>\n",
       "<style scoped>\n",
       "    .dataframe tbody tr th:only-of-type {\n",
       "        vertical-align: middle;\n",
       "    }\n",
       "\n",
       "    .dataframe tbody tr th {\n",
       "        vertical-align: top;\n",
       "    }\n",
       "\n",
       "    .dataframe thead th {\n",
       "        text-align: right;\n",
       "    }\n",
       "</style>\n",
       "<table border=\"1\" class=\"dataframe\">\n",
       "  <thead>\n",
       "    <tr style=\"text-align: right;\">\n",
       "      <th></th>\n",
       "      <th>gender</th>\n",
       "      <th>3yrs_purchases</th>\n",
       "      <th>job_industry_category</th>\n",
       "      <th>wealth_segment</th>\n",
       "      <th>owns_car</th>\n",
       "      <th>state</th>\n",
       "      <th>property_valuation</th>\n",
       "      <th>tenure</th>\n",
       "      <th>age_category</th>\n",
       "      <th>order_status</th>\n",
       "    </tr>\n",
       "  </thead>\n",
       "  <tbody>\n",
       "    <tr>\n",
       "      <th>0</th>\n",
       "      <td>Male</td>\n",
       "      <td>19</td>\n",
       "      <td>Financial Services</td>\n",
       "      <td>Mass Customer</td>\n",
       "      <td>Yes</td>\n",
       "      <td>VIC</td>\n",
       "      <td>6</td>\n",
       "      <td>10.0</td>\n",
       "      <td>senior</td>\n",
       "      <td>1</td>\n",
       "    </tr>\n",
       "    <tr>\n",
       "      <th>1</th>\n",
       "      <td>Male</td>\n",
       "      <td>19</td>\n",
       "      <td>Financial Services</td>\n",
       "      <td>Mass Customer</td>\n",
       "      <td>Yes</td>\n",
       "      <td>VIC</td>\n",
       "      <td>6</td>\n",
       "      <td>10.0</td>\n",
       "      <td>senior</td>\n",
       "      <td>1</td>\n",
       "    </tr>\n",
       "    <tr>\n",
       "      <th>2</th>\n",
       "      <td>Male</td>\n",
       "      <td>19</td>\n",
       "      <td>Financial Services</td>\n",
       "      <td>Mass Customer</td>\n",
       "      <td>Yes</td>\n",
       "      <td>VIC</td>\n",
       "      <td>6</td>\n",
       "      <td>10.0</td>\n",
       "      <td>senior</td>\n",
       "      <td>1</td>\n",
       "    </tr>\n",
       "    <tr>\n",
       "      <th>3</th>\n",
       "      <td>Female</td>\n",
       "      <td>89</td>\n",
       "      <td>Health</td>\n",
       "      <td>Mass Customer</td>\n",
       "      <td>Yes</td>\n",
       "      <td>NSW</td>\n",
       "      <td>5</td>\n",
       "      <td>10.0</td>\n",
       "      <td>adult</td>\n",
       "      <td>1</td>\n",
       "    </tr>\n",
       "    <tr>\n",
       "      <th>4</th>\n",
       "      <td>Female</td>\n",
       "      <td>89</td>\n",
       "      <td>Health</td>\n",
       "      <td>Mass Customer</td>\n",
       "      <td>Yes</td>\n",
       "      <td>NSW</td>\n",
       "      <td>5</td>\n",
       "      <td>10.0</td>\n",
       "      <td>adult</td>\n",
       "      <td>1</td>\n",
       "    </tr>\n",
       "  </tbody>\n",
       "</table>\n",
       "</div>"
      ],
      "text/plain": [
       "   gender  3yrs_purchases job_industry_category wealth_segment owns_car state  \\\n",
       "0    Male              19    Financial Services  Mass Customer      Yes   VIC   \n",
       "1    Male              19    Financial Services  Mass Customer      Yes   VIC   \n",
       "2    Male              19    Financial Services  Mass Customer      Yes   VIC   \n",
       "3  Female              89                Health  Mass Customer      Yes   NSW   \n",
       "4  Female              89                Health  Mass Customer      Yes   NSW   \n",
       "\n",
       "   property_valuation  tenure age_category  order_status  \n",
       "0                   6    10.0       senior             1  \n",
       "1                   6    10.0       senior             1  \n",
       "2                   6    10.0       senior             1  \n",
       "3                   5    10.0        adult             1  \n",
       "4                   5    10.0        adult             1  "
      ]
     },
     "execution_count": 40,
     "metadata": {},
     "output_type": "execute_result"
    }
   ],
   "source": [
    "comb_df.head()"
   ]
  },
  {
   "cell_type": "code",
   "execution_count": 41,
   "metadata": {},
   "outputs": [
    {
     "data": {
      "text/plain": [
       "gender                   0\n",
       "3yrs_purchases           0\n",
       "job_industry_category    0\n",
       "wealth_segment           0\n",
       "owns_car                 0\n",
       "state                    0\n",
       "property_valuation       0\n",
       "tenure                   0\n",
       "age_category             0\n",
       "order_status             0\n",
       "dtype: int64"
      ]
     },
     "execution_count": 41,
     "metadata": {},
     "output_type": "execute_result"
    }
   ],
   "source": [
    "# checking for null values\n",
    "comb_df.isnull().sum()"
   ]
  },
  {
   "cell_type": "code",
   "execution_count": 42,
   "metadata": {},
   "outputs": [],
   "source": [
    "# saving the cleaning data to disk \n",
    "comb_df.to_csv('transaction data.cvs', index=False)"
   ]
  },
  {
   "cell_type": "code",
   "execution_count": 43,
   "metadata": {},
   "outputs": [
    {
     "data": {
      "image/png": "[encoded data removed]",
      "text/plain": [
       "<Figure size 720x576 with 4 Axes>"
      ]
     },
     "metadata": {},
     "output_type": "display_data"
    }
   ],
   "source": [
    "# displaying histogram of numeric data\n",
    "comb_df.hist(figsize = (10,8));"
   ]
  },
  {
   "cell_type": "code",
   "execution_count": 44,
   "metadata": {},
   "outputs": [
    {
     "data": {
      "image/png": "[encoded data removed]",
      "text/plain": [
       "<Figure size 720x576 with 1 Axes>"
      ]
     },
     "metadata": {},
     "output_type": "display_data"
    }
   ],
   "source": [
    "# boxplot of numeric data\n",
    "comb_df.boxplot(figsize= (10,8));"
   ]
  },
  {
   "cell_type": "markdown",
   "metadata": {},
   "source": [
    "from the above plots we can see that our data s highly unbalanced"
   ]
  },
  {
   "cell_type": "code",
   "execution_count": 45,
   "metadata": {},
   "outputs": [
    {
     "data": {
      "text/html": [
       "<div>\n",
       "<style scoped>\n",
       "    .dataframe tbody tr th:only-of-type {\n",
       "        vertical-align: middle;\n",
       "    }\n",
       "\n",
       "    .dataframe tbody tr th {\n",
       "        vertical-align: top;\n",
       "    }\n",
       "\n",
       "    .dataframe thead th {\n",
       "        text-align: right;\n",
       "    }\n",
       "</style>\n",
       "<table border=\"1\" class=\"dataframe\">\n",
       "  <thead>\n",
       "    <tr style=\"text-align: right;\">\n",
       "      <th></th>\n",
       "      <th>gender</th>\n",
       "      <th>3yrs_purchases</th>\n",
       "      <th>job_industry_category</th>\n",
       "      <th>wealth_segment</th>\n",
       "      <th>owns_car</th>\n",
       "      <th>state</th>\n",
       "      <th>property_valuation</th>\n",
       "      <th>tenure</th>\n",
       "      <th>age_category</th>\n",
       "      <th>order_status</th>\n",
       "    </tr>\n",
       "  </thead>\n",
       "  <tbody>\n",
       "    <tr>\n",
       "      <th>0</th>\n",
       "      <td>Male</td>\n",
       "      <td>19</td>\n",
       "      <td>Financial Services</td>\n",
       "      <td>Mass Customer</td>\n",
       "      <td>Yes</td>\n",
       "      <td>VIC</td>\n",
       "      <td>6</td>\n",
       "      <td>10.0</td>\n",
       "      <td>senior</td>\n",
       "      <td>1</td>\n",
       "    </tr>\n",
       "    <tr>\n",
       "      <th>1</th>\n",
       "      <td>Male</td>\n",
       "      <td>19</td>\n",
       "      <td>Financial Services</td>\n",
       "      <td>Mass Customer</td>\n",
       "      <td>Yes</td>\n",
       "      <td>VIC</td>\n",
       "      <td>6</td>\n",
       "      <td>10.0</td>\n",
       "      <td>senior</td>\n",
       "      <td>1</td>\n",
       "    </tr>\n",
       "    <tr>\n",
       "      <th>2</th>\n",
       "      <td>Male</td>\n",
       "      <td>19</td>\n",
       "      <td>Financial Services</td>\n",
       "      <td>Mass Customer</td>\n",
       "      <td>Yes</td>\n",
       "      <td>VIC</td>\n",
       "      <td>6</td>\n",
       "      <td>10.0</td>\n",
       "      <td>senior</td>\n",
       "      <td>1</td>\n",
       "    </tr>\n",
       "    <tr>\n",
       "      <th>3</th>\n",
       "      <td>Female</td>\n",
       "      <td>89</td>\n",
       "      <td>Health</td>\n",
       "      <td>Mass Customer</td>\n",
       "      <td>Yes</td>\n",
       "      <td>NSW</td>\n",
       "      <td>5</td>\n",
       "      <td>10.0</td>\n",
       "      <td>adult</td>\n",
       "      <td>1</td>\n",
       "    </tr>\n",
       "    <tr>\n",
       "      <th>4</th>\n",
       "      <td>Female</td>\n",
       "      <td>89</td>\n",
       "      <td>Health</td>\n",
       "      <td>Mass Customer</td>\n",
       "      <td>Yes</td>\n",
       "      <td>NSW</td>\n",
       "      <td>5</td>\n",
       "      <td>10.0</td>\n",
       "      <td>adult</td>\n",
       "      <td>1</td>\n",
       "    </tr>\n",
       "  </tbody>\n",
       "</table>\n",
       "</div>"
      ],
      "text/plain": [
       "   gender  3yrs_purchases job_industry_category wealth_segment owns_car state  \\\n",
       "0    Male              19    Financial Services  Mass Customer      Yes   VIC   \n",
       "1    Male              19    Financial Services  Mass Customer      Yes   VIC   \n",
       "2    Male              19    Financial Services  Mass Customer      Yes   VIC   \n",
       "3  Female              89                Health  Mass Customer      Yes   NSW   \n",
       "4  Female              89                Health  Mass Customer      Yes   NSW   \n",
       "\n",
       "   property_valuation  tenure age_category  order_status  \n",
       "0                   6    10.0       senior             1  \n",
       "1                   6    10.0       senior             1  \n",
       "2                   6    10.0       senior             1  \n",
       "3                   5    10.0        adult             1  \n",
       "4                   5    10.0        adult             1  "
      ]
     },
     "execution_count": 45,
     "metadata": {},
     "output_type": "execute_result"
    }
   ],
   "source": [
    "# creating a copy of the data\n",
    "data = comb_df.copy()\n",
    "data.head()"
   ]
  },
  {
   "cell_type": "code",
   "execution_count": 46,
   "metadata": {},
   "outputs": [],
   "source": [
    "# dropping the order_status which is the target\n",
    "data = data.drop('order_status', axis=1)\n",
    "data = pd.get_dummies(data)\n",
    "X = data\n",
    "y = comb_df['order_status']"
   ]
  },
  {
   "cell_type": "code",
   "execution_count": 47,
   "metadata": {},
   "outputs": [
    {
     "data": {
      "text/plain": [
       "0        1\n",
       "1        1\n",
       "2        1\n",
       "3        1\n",
       "4        1\n",
       "        ..\n",
       "19963    1\n",
       "19964    1\n",
       "19965    1\n",
       "19966    1\n",
       "19967    1\n",
       "Name: order_status, Length: 16291, dtype: int64"
      ]
     },
     "execution_count": 47,
     "metadata": {},
     "output_type": "execute_result"
    }
   ],
   "source": [
    "# target\n",
    "y"
   ]
  },
  {
   "cell_type": "code",
   "execution_count": 48,
   "metadata": {},
   "outputs": [],
   "source": [
    "# splitting the data into training and testing data\n",
    "X_train, X_test, y_train, y_test = train_test_split(X, y, test_size=0.3, random_state=13)"
   ]
  },
  {
   "cell_type": "markdown",
   "metadata": {},
   "source": [
    "## Base Logistics Regression Model"
   ]
  },
  {
   "cell_type": "code",
   "execution_count": 49,
   "metadata": {},
   "outputs": [
    {
     "name": "stdout",
     "output_type": "stream",
     "text": [
      "Accuracy Score: 0.9909983633387889\n",
      "Confusion Matrix: \n",
      "[[   0   44]\n",
      " [   0 4844]]\n",
      "Area Under Curve: 0.5\n",
      "Recall score: 1.0\n"
     ]
    }
   ],
   "source": [
    "# define model\n",
    "lg1 = LogisticRegression(random_state=13, class_weight=None)\n",
    "\n",
    "# fit it\n",
    "lg1.fit(X_train, y_train)\n",
    "\n",
    "# test\n",
    "y_pred = lg1.predict(X_test)\n",
    "\n",
    "# performance\n",
    "print(f'Accuracy Score: {accuracy_score(y_test,y_pred)}')\n",
    "print(f'Confusion Matrix: \\n{confusion_matrix(y_test, y_pred)}')\n",
    "print(f'Area Under Curve: {roc_auc_score(y_test, y_pred)}')\n",
    "print(f'Recall score: {recall_score(y_test,y_pred)}')"
   ]
  },
  {
   "cell_type": "markdown",
   "metadata": {},
   "source": [
    "## Weighted Logistic Regression"
   ]
  },
  {
   "cell_type": "code",
   "execution_count": 50,
   "metadata": {},
   "outputs": [
    {
     "name": "stdout",
     "output_type": "stream",
     "text": [
      "Accuracy Score: 0.6217266775777414\n",
      "Confusion Matrix: \n",
      "[[  19   25]\n",
      " [1824 3020]]\n",
      "Area Under Curve: 0.5276349373170183\n",
      "Recall score: 0.6234516928158547\n"
     ]
    }
   ],
   "source": [
    "# define class weights\n",
    "w = {1:1, 0:99}\n",
    "\n",
    "# define model\n",
    "lg2 = LogisticRegression(random_state=13, class_weight=w)\n",
    "\n",
    "# fit it\n",
    "lg2.fit(X_train,y_train)\n",
    "\n",
    "# test\n",
    "y_pred2 = lg2.predict(X_test)\n",
    "\n",
    "# performance\n",
    "print(f'Accuracy Score: {accuracy_score(y_test,y_pred2)}')\n",
    "print(f'Confusion Matrix: \\n{confusion_matrix(y_test, y_pred2)}')\n",
    "print(f'Area Under Curve: {roc_auc_score(y_test, y_pred2)}')\n",
    "print(f'Recall score: {recall_score(y_test,y_pred2)}')"
   ]
  },
  {
   "cell_type": "code",
   "execution_count": 51,
   "metadata": {},
   "outputs": [
    {
     "name": "stdout",
     "output_type": "stream",
     "text": [
      "[[ 0.0045728  -0.08531016 -0.00771049  0.12943395  0.08837122  0.26539252\n",
      "  -0.22653799  0.29031125 -0.08651728 -0.30971668  0.08845747 -0.23847553\n",
      "   0.24208679  0.19280462 -0.12596866  0.22921631  0.11455752 -0.13536218\n",
      "   0.35316735  0.04632841  0.06567572  0.10580104 -0.12309786  0.26087684\n",
      "   0.08002619]]\n"
     ]
    }
   ],
   "source": [
    "print(lg2.coef_)"
   ]
  },
  {
   "cell_type": "markdown",
   "metadata": {},
   "source": [
    "## Randon Forest Classifier"
   ]
  },
  {
   "cell_type": "code",
   "execution_count": 52,
   "metadata": {},
   "outputs": [
    {
     "data": {
      "text/plain": [
       "0.9537643207855974"
      ]
     },
     "execution_count": 52,
     "metadata": {},
     "output_type": "execute_result"
    }
   ],
   "source": [
    "# define the model\n",
    "rf = RandomForestClassifier(max_features=5, n_estimators=100, class_weight=w, random_state=13)\n",
    "\n",
    "# fit the model\n",
    "rf.fit(X_train, y_train)\n",
    "\n",
    "# test\n",
    "rf.score(X_test, y_test)"
   ]
  },
  {
   "cell_type": "code",
   "execution_count": 53,
   "metadata": {},
   "outputs": [
    {
     "data": {
      "text/plain": [
       "0.9537643207855974"
      ]
     },
     "execution_count": 53,
     "metadata": {},
     "output_type": "execute_result"
    }
   ],
   "source": [
    "rf.score(X_test, y_test)"
   ]
  },
  {
   "cell_type": "code",
   "execution_count": 54,
   "metadata": {},
   "outputs": [],
   "source": [
    "y_pred3 = rf.predict(X_test)"
   ]
  },
  {
   "cell_type": "code",
   "execution_count": 55,
   "metadata": {},
   "outputs": [
    {
     "data": {
      "text/plain": [
       "0.9537643207855974"
      ]
     },
     "execution_count": 55,
     "metadata": {},
     "output_type": "execute_result"
    }
   ],
   "source": [
    "accuracy_score(y_pred3, y_test)"
   ]
  },
  {
   "cell_type": "code",
   "execution_count": 56,
   "metadata": {},
   "outputs": [],
   "source": [
    "# importing the new customer data for predicting\n",
    "data1 = pd.read_csv('new_cust.csv')"
   ]
  },
  {
   "cell_type": "code",
   "execution_count": 57,
   "metadata": {},
   "outputs": [
    {
     "data": {
      "text/html": [
       "<div>\n",
       "<style scoped>\n",
       "    .dataframe tbody tr th:only-of-type {\n",
       "        vertical-align: middle;\n",
       "    }\n",
       "\n",
       "    .dataframe tbody tr th {\n",
       "        vertical-align: top;\n",
       "    }\n",
       "\n",
       "    .dataframe thead th {\n",
       "        text-align: right;\n",
       "    }\n",
       "</style>\n",
       "<table border=\"1\" class=\"dataframe\">\n",
       "  <thead>\n",
       "    <tr style=\"text-align: right;\">\n",
       "      <th></th>\n",
       "      <th>first_name</th>\n",
       "      <th>last_name</th>\n",
       "      <th>gender</th>\n",
       "      <th>3yrs_purchases</th>\n",
       "      <th>job_industry_category</th>\n",
       "      <th>wealth_segment</th>\n",
       "      <th>owns_car</th>\n",
       "      <th>tenure</th>\n",
       "      <th>state</th>\n",
       "      <th>property_valuation</th>\n",
       "      <th>age_category</th>\n",
       "    </tr>\n",
       "  </thead>\n",
       "  <tbody>\n",
       "    <tr>\n",
       "      <th>0</th>\n",
       "      <td>Chickie</td>\n",
       "      <td>Brister</td>\n",
       "      <td>Male</td>\n",
       "      <td>86</td>\n",
       "      <td>Manufacturing</td>\n",
       "      <td>Mass Customer</td>\n",
       "      <td>Yes</td>\n",
       "      <td>14</td>\n",
       "      <td>QLD</td>\n",
       "      <td>6</td>\n",
       "      <td>senior</td>\n",
       "    </tr>\n",
       "    <tr>\n",
       "      <th>1</th>\n",
       "      <td>Morly</td>\n",
       "      <td>Genery</td>\n",
       "      <td>Male</td>\n",
       "      <td>69</td>\n",
       "      <td>Property</td>\n",
       "      <td>Mass Customer</td>\n",
       "      <td>No</td>\n",
       "      <td>16</td>\n",
       "      <td>NSW</td>\n",
       "      <td>11</td>\n",
       "      <td>adult</td>\n",
       "    </tr>\n",
       "    <tr>\n",
       "      <th>2</th>\n",
       "      <td>Ardelis</td>\n",
       "      <td>Forrester</td>\n",
       "      <td>Female</td>\n",
       "      <td>10</td>\n",
       "      <td>Financial Services</td>\n",
       "      <td>Affluent Customer</td>\n",
       "      <td>No</td>\n",
       "      <td>10</td>\n",
       "      <td>VIC</td>\n",
       "      <td>5</td>\n",
       "      <td>adult</td>\n",
       "    </tr>\n",
       "    <tr>\n",
       "      <th>3</th>\n",
       "      <td>Lucine</td>\n",
       "      <td>Stutt</td>\n",
       "      <td>Female</td>\n",
       "      <td>64</td>\n",
       "      <td>Manufacturing</td>\n",
       "      <td>Affluent Customer</td>\n",
       "      <td>Yes</td>\n",
       "      <td>5</td>\n",
       "      <td>QLD</td>\n",
       "      <td>1</td>\n",
       "      <td>adult</td>\n",
       "    </tr>\n",
       "    <tr>\n",
       "      <th>4</th>\n",
       "      <td>Melinda</td>\n",
       "      <td>Hadlee</td>\n",
       "      <td>Female</td>\n",
       "      <td>34</td>\n",
       "      <td>Financial Services</td>\n",
       "      <td>Affluent Customer</td>\n",
       "      <td>No</td>\n",
       "      <td>19</td>\n",
       "      <td>NSW</td>\n",
       "      <td>9</td>\n",
       "      <td>adult</td>\n",
       "    </tr>\n",
       "  </tbody>\n",
       "</table>\n",
       "</div>"
      ],
      "text/plain": [
       "  first_name  last_name  gender  3yrs_purchases job_industry_category  \\\n",
       "0    Chickie    Brister    Male              86         Manufacturing   \n",
       "1      Morly     Genery    Male              69              Property   \n",
       "2    Ardelis  Forrester  Female              10    Financial Services   \n",
       "3     Lucine      Stutt  Female              64         Manufacturing   \n",
       "4    Melinda     Hadlee  Female              34    Financial Services   \n",
       "\n",
       "      wealth_segment owns_car  tenure state  property_valuation age_category  \n",
       "0      Mass Customer      Yes      14   QLD                   6       senior  \n",
       "1      Mass Customer       No      16   NSW                  11        adult  \n",
       "2  Affluent Customer       No      10   VIC                   5        adult  \n",
       "3  Affluent Customer      Yes       5   QLD                   1        adult  \n",
       "4  Affluent Customer       No      19   NSW                   9        adult  "
      ]
     },
     "execution_count": 57,
     "metadata": {},
     "output_type": "execute_result"
    }
   ],
   "source": [
    "# displaying the first 5 rows\n",
    "data1.head()"
   ]
  },
  {
   "cell_type": "code",
   "execution_count": 58,
   "metadata": {},
   "outputs": [],
   "source": [
    "# dropping the firt name and last name in order to predict the data\n",
    "data_no_name = data1.drop(['first_name', 'last_name'], axis = 1)"
   ]
  },
  {
   "cell_type": "code",
   "execution_count": 59,
   "metadata": {},
   "outputs": [
    {
     "data": {
      "text/plain": [
       "(818, 25)"
      ]
     },
     "execution_count": 59,
     "metadata": {},
     "output_type": "execute_result"
    }
   ],
   "source": [
    "# applying numeric coding\n",
    "data_no_name = pd.get_dummies(data_no_name)\n",
    "data_no_name.shape"
   ]
  },
  {
   "cell_type": "code",
   "execution_count": 60,
   "metadata": {},
   "outputs": [],
   "source": [
    "# predicting the customer data\n",
    "prediction = lg2.predict(data_no_name)"
   ]
  },
  {
   "cell_type": "code",
   "execution_count": 61,
   "metadata": {},
   "outputs": [
    {
     "data": {
      "text/plain": [
       "818"
      ]
     },
     "execution_count": 61,
     "metadata": {},
     "output_type": "execute_result"
    }
   ],
   "source": [
    "new = list(prediction)\n",
    "len(new)"
   ]
  },
  {
   "cell_type": "code",
   "execution_count": 62,
   "metadata": {},
   "outputs": [],
   "source": [
    "# grouping the 1s and 0s\n",
    "zeros = []\n",
    "ones = []\n",
    "for i in prediction:\n",
    "    if i == 0:\n",
    "        zeros.append(0)\n",
    "    else:\n",
    "        ones.append(1)\n",
    "    "
   ]
  },
  {
   "cell_type": "code",
   "execution_count": 63,
   "metadata": {},
   "outputs": [
    {
     "data": {
      "text/plain": [
       "469"
      ]
     },
     "execution_count": 63,
     "metadata": {},
     "output_type": "execute_result"
    }
   ],
   "source": [
    "# Number of potential cancelled purchases\n",
    "len(zeros)"
   ]
  },
  {
   "cell_type": "code",
   "execution_count": 64,
   "metadata": {},
   "outputs": [
    {
     "data": {
      "text/plain": [
       "349"
      ]
     },
     "execution_count": 64,
     "metadata": {},
     "output_type": "execute_result"
    }
   ],
   "source": [
    "# number of potential approved purchases\n",
    "len(ones)"
   ]
  },
  {
   "cell_type": "code",
   "execution_count": 65,
   "metadata": {},
   "outputs": [],
   "source": [
    "# converting the prediction to a column\n",
    "data_no_name['prediction'] = prediction"
   ]
  },
  {
   "cell_type": "code",
   "execution_count": 66,
   "metadata": {},
   "outputs": [],
   "source": [
    "# adding the prediction column to the dataframe\n",
    "data1['prediction'] = prediction"
   ]
  },
  {
   "cell_type": "code",
   "execution_count": 67,
   "metadata": {},
   "outputs": [
    {
     "data": {
      "text/html": [
       "<div>\n",
       "<style scoped>\n",
       "    .dataframe tbody tr th:only-of-type {\n",
       "        vertical-align: middle;\n",
       "    }\n",
       "\n",
       "    .dataframe tbody tr th {\n",
       "        vertical-align: top;\n",
       "    }\n",
       "\n",
       "    .dataframe thead th {\n",
       "        text-align: right;\n",
       "    }\n",
       "</style>\n",
       "<table border=\"1\" class=\"dataframe\">\n",
       "  <thead>\n",
       "    <tr style=\"text-align: right;\">\n",
       "      <th></th>\n",
       "      <th>first_name</th>\n",
       "      <th>last_name</th>\n",
       "      <th>gender</th>\n",
       "      <th>3yrs_purchases</th>\n",
       "      <th>job_industry_category</th>\n",
       "      <th>wealth_segment</th>\n",
       "      <th>owns_car</th>\n",
       "      <th>tenure</th>\n",
       "      <th>state</th>\n",
       "      <th>property_valuation</th>\n",
       "      <th>age_category</th>\n",
       "      <th>prediction</th>\n",
       "    </tr>\n",
       "  </thead>\n",
       "  <tbody>\n",
       "    <tr>\n",
       "      <th>0</th>\n",
       "      <td>Chickie</td>\n",
       "      <td>Brister</td>\n",
       "      <td>Male</td>\n",
       "      <td>86</td>\n",
       "      <td>Manufacturing</td>\n",
       "      <td>Mass Customer</td>\n",
       "      <td>Yes</td>\n",
       "      <td>14</td>\n",
       "      <td>QLD</td>\n",
       "      <td>6</td>\n",
       "      <td>senior</td>\n",
       "      <td>1</td>\n",
       "    </tr>\n",
       "    <tr>\n",
       "      <th>1</th>\n",
       "      <td>Morly</td>\n",
       "      <td>Genery</td>\n",
       "      <td>Male</td>\n",
       "      <td>69</td>\n",
       "      <td>Property</td>\n",
       "      <td>Mass Customer</td>\n",
       "      <td>No</td>\n",
       "      <td>16</td>\n",
       "      <td>NSW</td>\n",
       "      <td>11</td>\n",
       "      <td>adult</td>\n",
       "      <td>0</td>\n",
       "    </tr>\n",
       "    <tr>\n",
       "      <th>2</th>\n",
       "      <td>Ardelis</td>\n",
       "      <td>Forrester</td>\n",
       "      <td>Female</td>\n",
       "      <td>10</td>\n",
       "      <td>Financial Services</td>\n",
       "      <td>Affluent Customer</td>\n",
       "      <td>No</td>\n",
       "      <td>10</td>\n",
       "      <td>VIC</td>\n",
       "      <td>5</td>\n",
       "      <td>adult</td>\n",
       "      <td>0</td>\n",
       "    </tr>\n",
       "    <tr>\n",
       "      <th>3</th>\n",
       "      <td>Lucine</td>\n",
       "      <td>Stutt</td>\n",
       "      <td>Female</td>\n",
       "      <td>64</td>\n",
       "      <td>Manufacturing</td>\n",
       "      <td>Affluent Customer</td>\n",
       "      <td>Yes</td>\n",
       "      <td>5</td>\n",
       "      <td>QLD</td>\n",
       "      <td>1</td>\n",
       "      <td>adult</td>\n",
       "      <td>1</td>\n",
       "    </tr>\n",
       "    <tr>\n",
       "      <th>4</th>\n",
       "      <td>Melinda</td>\n",
       "      <td>Hadlee</td>\n",
       "      <td>Female</td>\n",
       "      <td>34</td>\n",
       "      <td>Financial Services</td>\n",
       "      <td>Affluent Customer</td>\n",
       "      <td>No</td>\n",
       "      <td>19</td>\n",
       "      <td>NSW</td>\n",
       "      <td>9</td>\n",
       "      <td>adult</td>\n",
       "      <td>0</td>\n",
       "    </tr>\n",
       "  </tbody>\n",
       "</table>\n",
       "</div>"
      ],
      "text/plain": [
       "  first_name  last_name  gender  3yrs_purchases job_industry_category  \\\n",
       "0    Chickie    Brister    Male              86         Manufacturing   \n",
       "1      Morly     Genery    Male              69              Property   \n",
       "2    Ardelis  Forrester  Female              10    Financial Services   \n",
       "3     Lucine      Stutt  Female              64         Manufacturing   \n",
       "4    Melinda     Hadlee  Female              34    Financial Services   \n",
       "\n",
       "      wealth_segment owns_car  tenure state  property_valuation age_category  \\\n",
       "0      Mass Customer      Yes      14   QLD                   6       senior   \n",
       "1      Mass Customer       No      16   NSW                  11        adult   \n",
       "2  Affluent Customer       No      10   VIC                   5        adult   \n",
       "3  Affluent Customer      Yes       5   QLD                   1        adult   \n",
       "4  Affluent Customer       No      19   NSW                   9        adult   \n",
       "\n",
       "   prediction  \n",
       "0           1  \n",
       "1           0  \n",
       "2           0  \n",
       "3           1  \n",
       "4           0  "
      ]
     },
     "execution_count": 67,
     "metadata": {},
     "output_type": "execute_result"
    }
   ],
   "source": [
    "data1.head()"
   ]
  },
  {
   "cell_type": "code",
   "execution_count": 68,
   "metadata": {},
   "outputs": [
    {
     "data": {
      "text/html": [
       "<div>\n",
       "<style scoped>\n",
       "    .dataframe tbody tr th:only-of-type {\n",
       "        vertical-align: middle;\n",
       "    }\n",
       "\n",
       "    .dataframe tbody tr th {\n",
       "        vertical-align: top;\n",
       "    }\n",
       "\n",
       "    .dataframe thead th {\n",
       "        text-align: right;\n",
       "    }\n",
       "</style>\n",
       "<table border=\"1\" class=\"dataframe\">\n",
       "  <thead>\n",
       "    <tr style=\"text-align: right;\">\n",
       "      <th></th>\n",
       "      <th>first_name</th>\n",
       "      <th>last_name</th>\n",
       "      <th>gender</th>\n",
       "      <th>3yrs_purchases</th>\n",
       "      <th>job_industry_category</th>\n",
       "      <th>wealth_segment</th>\n",
       "      <th>owns_car</th>\n",
       "      <th>tenure</th>\n",
       "      <th>state</th>\n",
       "      <th>property_valuation</th>\n",
       "      <th>age_category</th>\n",
       "      <th>prediction</th>\n",
       "    </tr>\n",
       "  </thead>\n",
       "  <tbody>\n",
       "    <tr>\n",
       "      <th>0</th>\n",
       "      <td>Chickie</td>\n",
       "      <td>Brister</td>\n",
       "      <td>Male</td>\n",
       "      <td>86</td>\n",
       "      <td>Manufacturing</td>\n",
       "      <td>Mass Customer</td>\n",
       "      <td>Yes</td>\n",
       "      <td>14</td>\n",
       "      <td>QLD</td>\n",
       "      <td>6</td>\n",
       "      <td>senior</td>\n",
       "      <td>1</td>\n",
       "    </tr>\n",
       "    <tr>\n",
       "      <th>3</th>\n",
       "      <td>Lucine</td>\n",
       "      <td>Stutt</td>\n",
       "      <td>Female</td>\n",
       "      <td>64</td>\n",
       "      <td>Manufacturing</td>\n",
       "      <td>Affluent Customer</td>\n",
       "      <td>Yes</td>\n",
       "      <td>5</td>\n",
       "      <td>QLD</td>\n",
       "      <td>1</td>\n",
       "      <td>adult</td>\n",
       "      <td>1</td>\n",
       "    </tr>\n",
       "    <tr>\n",
       "      <th>7</th>\n",
       "      <td>Nancie</td>\n",
       "      <td>Vian</td>\n",
       "      <td>Female</td>\n",
       "      <td>74</td>\n",
       "      <td>Retail</td>\n",
       "      <td>Mass Customer</td>\n",
       "      <td>Yes</td>\n",
       "      <td>10</td>\n",
       "      <td>QLD</td>\n",
       "      <td>5</td>\n",
       "      <td>adult</td>\n",
       "      <td>1</td>\n",
       "    </tr>\n",
       "    <tr>\n",
       "      <th>8</th>\n",
       "      <td>Duff</td>\n",
       "      <td>Karlowicz</td>\n",
       "      <td>Male</td>\n",
       "      <td>50</td>\n",
       "      <td>Manufacturing</td>\n",
       "      <td>Mass Customer</td>\n",
       "      <td>Yes</td>\n",
       "      <td>5</td>\n",
       "      <td>NSW</td>\n",
       "      <td>10</td>\n",
       "      <td>adult</td>\n",
       "      <td>1</td>\n",
       "    </tr>\n",
       "    <tr>\n",
       "      <th>10</th>\n",
       "      <td>Rockwell</td>\n",
       "      <td>Matson</td>\n",
       "      <td>Male</td>\n",
       "      <td>94</td>\n",
       "      <td>Retail</td>\n",
       "      <td>High Net Worth</td>\n",
       "      <td>No</td>\n",
       "      <td>3</td>\n",
       "      <td>QLD</td>\n",
       "      <td>6</td>\n",
       "      <td>young adult</td>\n",
       "      <td>1</td>\n",
       "    </tr>\n",
       "    <tr>\n",
       "      <th>...</th>\n",
       "      <td>...</td>\n",
       "      <td>...</td>\n",
       "      <td>...</td>\n",
       "      <td>...</td>\n",
       "      <td>...</td>\n",
       "      <td>...</td>\n",
       "      <td>...</td>\n",
       "      <td>...</td>\n",
       "      <td>...</td>\n",
       "      <td>...</td>\n",
       "      <td>...</td>\n",
       "      <td>...</td>\n",
       "    </tr>\n",
       "    <tr>\n",
       "      <th>807</th>\n",
       "      <td>Kellen</td>\n",
       "      <td>Pawelski</td>\n",
       "      <td>Female</td>\n",
       "      <td>83</td>\n",
       "      <td>Manufacturing</td>\n",
       "      <td>High Net Worth</td>\n",
       "      <td>Yes</td>\n",
       "      <td>11</td>\n",
       "      <td>NSW</td>\n",
       "      <td>8</td>\n",
       "      <td>senior</td>\n",
       "      <td>1</td>\n",
       "    </tr>\n",
       "    <tr>\n",
       "      <th>808</th>\n",
       "      <td>Jermaine</td>\n",
       "      <td>Bagshawe</td>\n",
       "      <td>Female</td>\n",
       "      <td>60</td>\n",
       "      <td>Property</td>\n",
       "      <td>Mass Customer</td>\n",
       "      <td>Yes</td>\n",
       "      <td>9</td>\n",
       "      <td>QLD</td>\n",
       "      <td>6</td>\n",
       "      <td>senior</td>\n",
       "      <td>1</td>\n",
       "    </tr>\n",
       "    <tr>\n",
       "      <th>811</th>\n",
       "      <td>Weidar</td>\n",
       "      <td>Etheridge</td>\n",
       "      <td>Male</td>\n",
       "      <td>38</td>\n",
       "      <td>Financial Services</td>\n",
       "      <td>Mass Customer</td>\n",
       "      <td>Yes</td>\n",
       "      <td>6</td>\n",
       "      <td>NSW</td>\n",
       "      <td>4</td>\n",
       "      <td>senior</td>\n",
       "      <td>1</td>\n",
       "    </tr>\n",
       "    <tr>\n",
       "      <th>812</th>\n",
       "      <td>Datha</td>\n",
       "      <td>Fishburn</td>\n",
       "      <td>Female</td>\n",
       "      <td>15</td>\n",
       "      <td>Retail</td>\n",
       "      <td>Mass Customer</td>\n",
       "      <td>No</td>\n",
       "      <td>3</td>\n",
       "      <td>VIC</td>\n",
       "      <td>12</td>\n",
       "      <td>young adult</td>\n",
       "      <td>1</td>\n",
       "    </tr>\n",
       "    <tr>\n",
       "      <th>813</th>\n",
       "      <td>Ferdinand</td>\n",
       "      <td>Romanetti</td>\n",
       "      <td>Male</td>\n",
       "      <td>60</td>\n",
       "      <td>Financial Services</td>\n",
       "      <td>Affluent Customer</td>\n",
       "      <td>No</td>\n",
       "      <td>9</td>\n",
       "      <td>NSW</td>\n",
       "      <td>7</td>\n",
       "      <td>senior</td>\n",
       "      <td>1</td>\n",
       "    </tr>\n",
       "  </tbody>\n",
       "</table>\n",
       "<p>349 rows × 12 columns</p>\n",
       "</div>"
      ],
      "text/plain": [
       "    first_name  last_name  gender  3yrs_purchases job_industry_category  \\\n",
       "0      Chickie    Brister    Male              86         Manufacturing   \n",
       "3       Lucine      Stutt  Female              64         Manufacturing   \n",
       "7       Nancie       Vian  Female              74                Retail   \n",
       "8         Duff  Karlowicz    Male              50         Manufacturing   \n",
       "10    Rockwell     Matson    Male              94                Retail   \n",
       "..         ...        ...     ...             ...                   ...   \n",
       "807     Kellen   Pawelski  Female              83         Manufacturing   \n",
       "808   Jermaine   Bagshawe  Female              60              Property   \n",
       "811     Weidar  Etheridge    Male              38    Financial Services   \n",
       "812      Datha   Fishburn  Female              15                Retail   \n",
       "813  Ferdinand  Romanetti    Male              60    Financial Services   \n",
       "\n",
       "        wealth_segment owns_car  tenure state  property_valuation  \\\n",
       "0        Mass Customer      Yes      14   QLD                   6   \n",
       "3    Affluent Customer      Yes       5   QLD                   1   \n",
       "7        Mass Customer      Yes      10   QLD                   5   \n",
       "8        Mass Customer      Yes       5   NSW                  10   \n",
       "10      High Net Worth       No       3   QLD                   6   \n",
       "..                 ...      ...     ...   ...                 ...   \n",
       "807     High Net Worth      Yes      11   NSW                   8   \n",
       "808      Mass Customer      Yes       9   QLD                   6   \n",
       "811      Mass Customer      Yes       6   NSW                   4   \n",
       "812      Mass Customer       No       3   VIC                  12   \n",
       "813  Affluent Customer       No       9   NSW                   7   \n",
       "\n",
       "    age_category  prediction  \n",
       "0         senior           1  \n",
       "3          adult           1  \n",
       "7          adult           1  \n",
       "8          adult           1  \n",
       "10   young adult           1  \n",
       "..           ...         ...  \n",
       "807       senior           1  \n",
       "808       senior           1  \n",
       "811       senior           1  \n",
       "812  young adult           1  \n",
       "813       senior           1  \n",
       "\n",
       "[349 rows x 12 columns]"
      ]
     },
     "execution_count": 68,
     "metadata": {},
     "output_type": "execute_result"
    }
   ],
   "source": [
    "# customer for targeted sales\n",
    "potential_customers = data1[data1['prediction'] == 1]\n",
    "potential_customers"
   ]
  }
 ],
 "metadata": {
  "kernelspec": {
   "display_name": "Python 3",
   "language": "python",
   "name": "python3"
  },
  "language_info": {
   "codemirror_mode": {
    "name": "ipython",
    "version": 3
   },
   "file_extension": ".py",
   "mimetype": "text/x-python",
   "name": "python",
   "nbconvert_exporter": "python",
   "pygments_lexer": "ipython3",
   "version": "3.8.5"
  }
 },
 "nbformat": 4,
 "nbformat_minor": 2
}
